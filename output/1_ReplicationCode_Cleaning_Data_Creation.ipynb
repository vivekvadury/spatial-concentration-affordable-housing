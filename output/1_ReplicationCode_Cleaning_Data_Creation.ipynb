{
 "cells": [
  {
   "cell_type": "code",
   "execution_count": 11,
   "metadata": {},
   "outputs": [],
   "source": [
    "import geopandas as gpd\n",
    "import pandas as pd \n",
    "import geopy\n",
    "import numpy as np\n",
    "import os\n",
    "import re"
   ]
  },
  {
   "cell_type": "code",
   "execution_count": 12,
   "metadata": {},
   "outputs": [],
   "source": [
    "crime = pd.read_csv('../input/Crime_Data_from_2010_to_2019.csv')\n",
    "covs = pd.read_excel('../input/Affordable_Housing_Covenents.xlsx')\n",
    "blocks = gpd.read_file('../input/LA_Blocks/tl_2010_06037_tabblock10.shp') # GPD has existing projection\n",
    "population_cityofla = gpd.read_file('../input/Census_Blocks_2010_Population/Census_Blocks_2010_Population.shp')"
   ]
  },
  {
   "cell_type": "code",
   "execution_count": 13,
   "metadata": {},
   "outputs": [],
   "source": [
    "city_blocks = population_cityofla[['GEOID10']]"
   ]
  },
  {
   "cell_type": "code",
   "execution_count": 14,
   "metadata": {},
   "outputs": [],
   "source": [
    "# These are the Census Blocks in Los Angeles!\n",
    "\n",
    "blocks = pd.merge(city_blocks, blocks, on= 'GEOID10', how='inner')\n",
    "blocks = gpd.GeoDataFrame(blocks.drop(columns = 'geometry'), geometry=blocks['geometry'], crs= 4269)"
   ]
  },
  {
   "cell_type": "code",
   "execution_count": 15,
   "metadata": {},
   "outputs": [
    {
     "name": "stdout",
     "output_type": "stream",
     "text": [
      "The crime dataset has 2060948 observations.\n",
      "The affordable housing dataset has 1302 observations.\n",
      "The affordable housing dataset has 30691 observations. Meaning, there are 30691 U.S. Census Blocks.\n"
     ]
    }
   ],
   "source": [
    "print(f'The crime dataset has {crime.shape[0]} observations.')\n",
    "print(f'The affordable housing dataset has {covs.shape[0]} observations.')\n",
    "print(f'The affordable housing dataset has {blocks.shape[0]} observations. Meaning, there are {blocks.shape[0]} U.S. Census Blocks.')\n"
   ]
  },
  {
   "cell_type": "code",
   "execution_count": 16,
   "metadata": {},
   "outputs": [],
   "source": [
    "# Transforming the Block CRS:\n",
    "\n",
    "blocks = blocks.to_crs(\"EPSG:4326\")"
   ]
  },
  {
   "cell_type": "code",
   "execution_count": 17,
   "metadata": {},
   "outputs": [],
   "source": [
    "# Turning our PDs to GPDs:\n",
    "\n",
    "crime = gpd.GeoDataFrame(crime, geometry= gpd.points_from_xy(crime.LON, crime.LAT), crs=4326)\n",
    "covs = gpd.GeoDataFrame(covs, geometry= gpd.points_from_xy(covs.Lng, covs.Lat), crs=4326)"
   ]
  },
  {
   "cell_type": "code",
   "execution_count": 18,
   "metadata": {},
   "outputs": [
    {
     "name": "stderr",
     "output_type": "stream",
     "text": [
      "<ipython-input-18-52b10d095660>:3: UserWarning: Column names longer than 10 characters will be truncated when saved to ESRI Shapefile.\n",
      "  covs.to_file('../intermediate/affordable_covenents/affordable_covenents.shp')\n"
     ]
    }
   ],
   "source": [
    "# Saving the covenents for mapping:\n",
    "\n",
    "covs.to_file('../intermediate/affordable_covenents/affordable_covenents.shp')"
   ]
  },
  {
   "cell_type": "code",
   "execution_count": 19,
   "metadata": {},
   "outputs": [
    {
     "name": "stdout",
     "output_type": "stream",
     "text": [
      "0.9990538334785739\n"
     ]
    }
   ],
   "source": [
    "# Dropping crime data that are not geolocated:\n",
    "\n",
    "crime_notnull = crime[~(crime[\"LAT\"] == 0)]\n",
    "print(crime_notnull.shape[0]/crime.shape[0])\n",
    "\n",
    "crime = crime_notnull"
   ]
  },
  {
   "cell_type": "code",
   "execution_count": 20,
   "metadata": {},
   "outputs": [
    {
     "data": {
      "text/plain": [
       "0"
      ]
     },
     "execution_count": 20,
     "metadata": {},
     "output_type": "execute_result"
    }
   ],
   "source": [
    "crime.shape[0] - crime_notnull.shape[0]"
   ]
  },
  {
   "cell_type": "markdown",
   "metadata": {},
   "source": [
    "We lose less than .1% of our data when we drop incidents of crime that do not have coordinates."
   ]
  },
  {
   "cell_type": "markdown",
   "metadata": {},
   "source": [
    "#### __Joining Crime Data with Block Shapefile:__"
   ]
  },
  {
   "cell_type": "code",
   "execution_count": 21,
   "metadata": {},
   "outputs": [],
   "source": [
    "crime['date'] = pd.to_datetime(crime['DATE OCC'])\n",
    "crime['year'] = pd.DatetimeIndex(crime['date']).year\n",
    "crime['month'] = pd.DatetimeIndex(crime['date']).month\n",
    "crime['year'] = crime['year'].astype(str)"
   ]
  },
  {
   "cell_type": "code",
   "execution_count": 22,
   "metadata": {},
   "outputs": [
    {
     "data": {
      "text/html": [
       "<div>\n",
       "<style scoped>\n",
       "    .dataframe tbody tr th:only-of-type {\n",
       "        vertical-align: middle;\n",
       "    }\n",
       "\n",
       "    .dataframe tbody tr th {\n",
       "        vertical-align: top;\n",
       "    }\n",
       "\n",
       "    .dataframe thead tr th {\n",
       "        text-align: left;\n",
       "    }\n",
       "\n",
       "    .dataframe thead tr:last-of-type th {\n",
       "        text-align: right;\n",
       "    }\n",
       "</style>\n",
       "<table border=\"1\" class=\"dataframe\">\n",
       "  <thead>\n",
       "    <tr>\n",
       "      <th></th>\n",
       "      <th colspan=\"12\" halign=\"left\">unique_id</th>\n",
       "    </tr>\n",
       "    <tr>\n",
       "      <th>month</th>\n",
       "      <th>1</th>\n",
       "      <th>2</th>\n",
       "      <th>3</th>\n",
       "      <th>4</th>\n",
       "      <th>5</th>\n",
       "      <th>6</th>\n",
       "      <th>7</th>\n",
       "      <th>8</th>\n",
       "      <th>9</th>\n",
       "      <th>10</th>\n",
       "      <th>11</th>\n",
       "      <th>12</th>\n",
       "    </tr>\n",
       "    <tr>\n",
       "      <th>year</th>\n",
       "      <th></th>\n",
       "      <th></th>\n",
       "      <th></th>\n",
       "      <th></th>\n",
       "      <th></th>\n",
       "      <th></th>\n",
       "      <th></th>\n",
       "      <th></th>\n",
       "      <th></th>\n",
       "      <th></th>\n",
       "      <th></th>\n",
       "      <th></th>\n",
       "    </tr>\n",
       "  </thead>\n",
       "  <tbody>\n",
       "    <tr>\n",
       "      <th>2010</th>\n",
       "      <td>19469</td>\n",
       "      <td>16021</td>\n",
       "      <td>18127</td>\n",
       "      <td>17771</td>\n",
       "      <td>17716</td>\n",
       "      <td>17672</td>\n",
       "      <td>17851</td>\n",
       "      <td>17294</td>\n",
       "      <td>16628</td>\n",
       "      <td>17616</td>\n",
       "      <td>16007</td>\n",
       "      <td>17029</td>\n",
       "    </tr>\n",
       "    <tr>\n",
       "      <th>2011</th>\n",
       "      <td>18097</td>\n",
       "      <td>14677</td>\n",
       "      <td>16939</td>\n",
       "      <td>16433</td>\n",
       "      <td>16938</td>\n",
       "      <td>17014</td>\n",
       "      <td>17268</td>\n",
       "      <td>17001</td>\n",
       "      <td>16241</td>\n",
       "      <td>17030</td>\n",
       "      <td>16417</td>\n",
       "      <td>16681</td>\n",
       "    </tr>\n",
       "    <tr>\n",
       "      <th>2012</th>\n",
       "      <td>5963</td>\n",
       "      <td>5543</td>\n",
       "      <td>5717</td>\n",
       "      <td>5728</td>\n",
       "      <td>6163</td>\n",
       "      <td>5384</td>\n",
       "      <td>5233</td>\n",
       "      <td>5538</td>\n",
       "      <td>5248</td>\n",
       "      <td>5335</td>\n",
       "      <td>4696</td>\n",
       "      <td>4362</td>\n",
       "    </tr>\n",
       "    <tr>\n",
       "      <th>2013</th>\n",
       "      <td>16765</td>\n",
       "      <td>14061</td>\n",
       "      <td>16216</td>\n",
       "      <td>15719</td>\n",
       "      <td>16595</td>\n",
       "      <td>16097</td>\n",
       "      <td>16630</td>\n",
       "      <td>17427</td>\n",
       "      <td>16220</td>\n",
       "      <td>16236</td>\n",
       "      <td>15337</td>\n",
       "      <td>15339</td>\n",
       "    </tr>\n",
       "    <tr>\n",
       "      <th>2014</th>\n",
       "      <td>16181</td>\n",
       "      <td>13681</td>\n",
       "      <td>15601</td>\n",
       "      <td>15408</td>\n",
       "      <td>16699</td>\n",
       "      <td>16360</td>\n",
       "      <td>17222</td>\n",
       "      <td>17044</td>\n",
       "      <td>16743</td>\n",
       "      <td>17301</td>\n",
       "      <td>15947</td>\n",
       "      <td>17170</td>\n",
       "    </tr>\n",
       "    <tr>\n",
       "      <th>2015</th>\n",
       "      <td>18386</td>\n",
       "      <td>16006</td>\n",
       "      <td>18005</td>\n",
       "      <td>16944</td>\n",
       "      <td>17939</td>\n",
       "      <td>17546</td>\n",
       "      <td>18685</td>\n",
       "      <td>18990</td>\n",
       "      <td>18276</td>\n",
       "      <td>19203</td>\n",
       "      <td>17377</td>\n",
       "      <td>18207</td>\n",
       "    </tr>\n",
       "    <tr>\n",
       "      <th>2016</th>\n",
       "      <td>6816</td>\n",
       "      <td>6403</td>\n",
       "      <td>6571</td>\n",
       "      <td>6754</td>\n",
       "      <td>6846</td>\n",
       "      <td>6574</td>\n",
       "      <td>6990</td>\n",
       "      <td>6840</td>\n",
       "      <td>5889</td>\n",
       "      <td>6177</td>\n",
       "      <td>5547</td>\n",
       "      <td>5305</td>\n",
       "    </tr>\n",
       "    <tr>\n",
       "      <th>2017</th>\n",
       "      <td>19671</td>\n",
       "      <td>17110</td>\n",
       "      <td>19411</td>\n",
       "      <td>18752</td>\n",
       "      <td>19452</td>\n",
       "      <td>19043</td>\n",
       "      <td>20163</td>\n",
       "      <td>19720</td>\n",
       "      <td>19420</td>\n",
       "      <td>20400</td>\n",
       "      <td>19011</td>\n",
       "      <td>19023</td>\n",
       "    </tr>\n",
       "    <tr>\n",
       "      <th>2018</th>\n",
       "      <td>19401</td>\n",
       "      <td>17141</td>\n",
       "      <td>19027</td>\n",
       "      <td>19132</td>\n",
       "      <td>19941</td>\n",
       "      <td>19271</td>\n",
       "      <td>19833</td>\n",
       "      <td>19723</td>\n",
       "      <td>18445</td>\n",
       "      <td>19521</td>\n",
       "      <td>18650</td>\n",
       "      <td>18923</td>\n",
       "    </tr>\n",
       "    <tr>\n",
       "      <th>2019</th>\n",
       "      <td>18454</td>\n",
       "      <td>16258</td>\n",
       "      <td>18799</td>\n",
       "      <td>17923</td>\n",
       "      <td>18642</td>\n",
       "      <td>18335</td>\n",
       "      <td>19074</td>\n",
       "      <td>18911</td>\n",
       "      <td>17990</td>\n",
       "      <td>18198</td>\n",
       "      <td>17217</td>\n",
       "      <td>18001</td>\n",
       "    </tr>\n",
       "    <tr>\n",
       "      <th>2020</th>\n",
       "      <td>10809</td>\n",
       "      <td>9884</td>\n",
       "      <td>9243</td>\n",
       "      <td>9523</td>\n",
       "      <td>10599</td>\n",
       "      <td>10993</td>\n",
       "      <td>10715</td>\n",
       "      <td>10584</td>\n",
       "      <td>9727</td>\n",
       "      <td>8696</td>\n",
       "      <td>7827</td>\n",
       "      <td>7123</td>\n",
       "    </tr>\n",
       "    <tr>\n",
       "      <th>2021</th>\n",
       "      <td>8519</td>\n",
       "      <td>7797</td>\n",
       "      <td>9440</td>\n",
       "      <td>9668</td>\n",
       "      <td>10414</td>\n",
       "      <td>10400</td>\n",
       "      <td>11134</td>\n",
       "      <td>11090</td>\n",
       "      <td>10912</td>\n",
       "      <td>11224</td>\n",
       "      <td>9558</td>\n",
       "      <td>11</td>\n",
       "    </tr>\n",
       "  </tbody>\n",
       "</table>\n",
       "</div>"
      ],
      "text/plain": [
       "      unique_id                                                          \\\n",
       "month        1      2      3      4      5      6      7      8      9    \n",
       "year                                                                      \n",
       "2010      19469  16021  18127  17771  17716  17672  17851  17294  16628   \n",
       "2011      18097  14677  16939  16433  16938  17014  17268  17001  16241   \n",
       "2012       5963   5543   5717   5728   6163   5384   5233   5538   5248   \n",
       "2013      16765  14061  16216  15719  16595  16097  16630  17427  16220   \n",
       "2014      16181  13681  15601  15408  16699  16360  17222  17044  16743   \n",
       "2015      18386  16006  18005  16944  17939  17546  18685  18990  18276   \n",
       "2016       6816   6403   6571   6754   6846   6574   6990   6840   5889   \n",
       "2017      19671  17110  19411  18752  19452  19043  20163  19720  19420   \n",
       "2018      19401  17141  19027  19132  19941  19271  19833  19723  18445   \n",
       "2019      18454  16258  18799  17923  18642  18335  19074  18911  17990   \n",
       "2020      10809   9884   9243   9523  10599  10993  10715  10584   9727   \n",
       "2021       8519   7797   9440   9668  10414  10400  11134  11090  10912   \n",
       "\n",
       "                            \n",
       "month     10     11     12  \n",
       "year                        \n",
       "2010   17616  16007  17029  \n",
       "2011   17030  16417  16681  \n",
       "2012    5335   4696   4362  \n",
       "2013   16236  15337  15339  \n",
       "2014   17301  15947  17170  \n",
       "2015   19203  17377  18207  \n",
       "2016    6177   5547   5305  \n",
       "2017   20400  19011  19023  \n",
       "2018   19521  18650  18923  \n",
       "2019   18198  17217  18001  \n",
       "2020    8696   7827   7123  \n",
       "2021   11224   9558     11  "
      ]
     },
     "execution_count": 22,
     "metadata": {},
     "output_type": "execute_result"
    }
   ],
   "source": [
    "pd.set_option(\"display.max_columns\", None)\n",
    "crime['unique_id'] = crime.reset_index().index\n",
    "pd.pivot_table(crime[['unique_id', 'year', 'month']], index='year', columns='month', aggfunc= 'count')"
   ]
  },
  {
   "cell_type": "code",
   "execution_count": null,
   "metadata": {},
   "outputs": [],
   "source": []
  },
  {
   "cell_type": "code",
   "execution_count": 12,
   "metadata": {},
   "outputs": [
    {
     "data": {
      "text/html": [
       "<div>\n",
       "<style scoped>\n",
       "    .dataframe tbody tr th:only-of-type {\n",
       "        vertical-align: middle;\n",
       "    }\n",
       "\n",
       "    .dataframe tbody tr th {\n",
       "        vertical-align: top;\n",
       "    }\n",
       "\n",
       "    .dataframe thead th {\n",
       "        text-align: right;\n",
       "    }\n",
       "</style>\n",
       "<table border=\"1\" class=\"dataframe\">\n",
       "  <thead>\n",
       "    <tr style=\"text-align: right;\">\n",
       "      <th></th>\n",
       "      <th>DR_NO</th>\n",
       "      <th>Date Rptd</th>\n",
       "      <th>DATE OCC</th>\n",
       "      <th>TIME OCC</th>\n",
       "      <th>AREA</th>\n",
       "      <th>AREA NAME</th>\n",
       "      <th>Rpt Dist No</th>\n",
       "      <th>Part 1-2</th>\n",
       "      <th>Crm Cd</th>\n",
       "      <th>Crm Cd Desc</th>\n",
       "      <th>...</th>\n",
       "      <th>Crm Cd 2</th>\n",
       "      <th>Crm Cd 3</th>\n",
       "      <th>Crm Cd 4</th>\n",
       "      <th>LOCATION</th>\n",
       "      <th>Cross Street</th>\n",
       "      <th>LAT</th>\n",
       "      <th>LON</th>\n",
       "      <th>geometry</th>\n",
       "      <th>date</th>\n",
       "      <th>year</th>\n",
       "    </tr>\n",
       "  </thead>\n",
       "  <tbody>\n",
       "    <tr>\n",
       "      <th>0</th>\n",
       "      <td>1307355</td>\n",
       "      <td>02/20/2010 12:00:00 AM</td>\n",
       "      <td>02/20/2010 12:00:00 AM</td>\n",
       "      <td>1350</td>\n",
       "      <td>13</td>\n",
       "      <td>Newton</td>\n",
       "      <td>1385</td>\n",
       "      <td>2</td>\n",
       "      <td>900</td>\n",
       "      <td>VIOLATION OF COURT ORDER</td>\n",
       "      <td>...</td>\n",
       "      <td>NaN</td>\n",
       "      <td>NaN</td>\n",
       "      <td>NaN</td>\n",
       "      <td>300 E  GAGE                         AV</td>\n",
       "      <td>NaN</td>\n",
       "      <td>33.9825</td>\n",
       "      <td>-118.2695</td>\n",
       "      <td>POINT (-118.26950 33.98250)</td>\n",
       "      <td>2010-02-20</td>\n",
       "      <td>2010</td>\n",
       "    </tr>\n",
       "  </tbody>\n",
       "</table>\n",
       "<p>1 rows × 31 columns</p>\n",
       "</div>"
      ],
      "text/plain": [
       "     DR_NO               Date Rptd                DATE OCC  TIME OCC  AREA   \\\n",
       "0  1307355  02/20/2010 12:00:00 AM  02/20/2010 12:00:00 AM      1350     13   \n",
       "\n",
       "  AREA NAME  Rpt Dist No  Part 1-2  Crm Cd               Crm Cd Desc  ...  \\\n",
       "0    Newton         1385         2     900  VIOLATION OF COURT ORDER  ...   \n",
       "\n",
       "  Crm Cd 2  Crm Cd 3 Crm Cd 4                                LOCATION  \\\n",
       "0      NaN       NaN      NaN  300 E  GAGE                         AV   \n",
       "\n",
       "   Cross Street      LAT       LON                     geometry       date  \\\n",
       "0           NaN  33.9825 -118.2695  POINT (-118.26950 33.98250) 2010-02-20   \n",
       "\n",
       "   year  \n",
       "0  2010  \n",
       "\n",
       "[1 rows x 31 columns]"
      ]
     },
     "execution_count": 12,
     "metadata": {},
     "output_type": "execute_result"
    }
   ],
   "source": [
    "crime.head(1)"
   ]
  },
  {
   "cell_type": "code",
   "execution_count": 13,
   "metadata": {},
   "outputs": [
    {
     "data": {
      "text/html": [
       "<div>\n",
       "<style scoped>\n",
       "    .dataframe tbody tr th:only-of-type {\n",
       "        vertical-align: middle;\n",
       "    }\n",
       "\n",
       "    .dataframe tbody tr th {\n",
       "        vertical-align: top;\n",
       "    }\n",
       "\n",
       "    .dataframe thead th {\n",
       "        text-align: right;\n",
       "    }\n",
       "</style>\n",
       "<table border=\"1\" class=\"dataframe\">\n",
       "  <thead>\n",
       "    <tr style=\"text-align: right;\">\n",
       "      <th></th>\n",
       "      <th>GEOID10</th>\n",
       "      <th>STATEFP10</th>\n",
       "      <th>COUNTYFP10</th>\n",
       "      <th>TRACTCE10</th>\n",
       "      <th>BLOCKCE10</th>\n",
       "      <th>NAME10</th>\n",
       "      <th>MTFCC10</th>\n",
       "      <th>UR10</th>\n",
       "      <th>UACE10</th>\n",
       "      <th>UATYP10</th>\n",
       "      <th>FUNCSTAT10</th>\n",
       "      <th>ALAND10</th>\n",
       "      <th>AWATER10</th>\n",
       "      <th>INTPTLAT10</th>\n",
       "      <th>INTPTLON10</th>\n",
       "      <th>geometry</th>\n",
       "    </tr>\n",
       "  </thead>\n",
       "  <tbody>\n",
       "    <tr>\n",
       "      <th>0</th>\n",
       "      <td>060372626043000</td>\n",
       "      <td>06</td>\n",
       "      <td>037</td>\n",
       "      <td>262604</td>\n",
       "      <td>3000</td>\n",
       "      <td>Block 3000</td>\n",
       "      <td>G5040</td>\n",
       "      <td>U</td>\n",
       "      <td>51445</td>\n",
       "      <td>U</td>\n",
       "      <td>S</td>\n",
       "      <td>389838</td>\n",
       "      <td>0</td>\n",
       "      <td>+34.0473001</td>\n",
       "      <td>-118.5567635</td>\n",
       "      <td>POLYGON ((-118.55912 34.04711, -118.55965 34.0...</td>\n",
       "    </tr>\n",
       "  </tbody>\n",
       "</table>\n",
       "</div>"
      ],
      "text/plain": [
       "           GEOID10 STATEFP10 COUNTYFP10 TRACTCE10 BLOCKCE10      NAME10  \\\n",
       "0  060372626043000        06        037    262604      3000  Block 3000   \n",
       "\n",
       "  MTFCC10 UR10 UACE10 UATYP10 FUNCSTAT10  ALAND10  AWATER10   INTPTLAT10  \\\n",
       "0   G5040    U  51445       U          S   389838         0  +34.0473001   \n",
       "\n",
       "     INTPTLON10                                           geometry  \n",
       "0  -118.5567635  POLYGON ((-118.55912 34.04711, -118.55965 34.0...  "
      ]
     },
     "execution_count": 13,
     "metadata": {},
     "output_type": "execute_result"
    }
   ],
   "source": [
    "blocks.head(1)"
   ]
  },
  {
   "cell_type": "code",
   "execution_count": 14,
   "metadata": {},
   "outputs": [
    {
     "name": "stderr",
     "output_type": "stream",
     "text": [
      "/Users/vivekadury/opt/anaconda3/lib/python3.8/site-packages/IPython/core/interactiveshell.py:3338: FutureWarning: The `op` parameter is deprecated and will be removed in a future release. Please use the `predicate` parameter instead.\n",
      "  if (await self.run_code(code, result,  async_=asy)):\n"
     ]
    }
   ],
   "source": [
    "points = crime[['year', 'geometry']]\n",
    "polygons = blocks[['GEOID10', 'geometry']]\n",
    "\n",
    "temp = gpd.sjoin(points, polygons, how='inner', op='intersects')"
   ]
  },
  {
   "cell_type": "code",
   "execution_count": 15,
   "metadata": {},
   "outputs": [],
   "source": [
    "temp[\"const\"] = 1"
   ]
  },
  {
   "cell_type": "code",
   "execution_count": 16,
   "metadata": {},
   "outputs": [],
   "source": [
    "only_crimes_by_block = pd.pivot_table(temp, values='const', index=['GEOID10'],\n",
    "                    columns=['year'], aggfunc=np.sum)"
   ]
  },
  {
   "cell_type": "code",
   "execution_count": 17,
   "metadata": {},
   "outputs": [],
   "source": [
    "only_crimes_by_block = only_crimes_by_block.fillna(0)"
   ]
  },
  {
   "cell_type": "code",
   "execution_count": 18,
   "metadata": {},
   "outputs": [],
   "source": [
    "only_crimes_by_block['Total'] = only_crimes_by_block.sum(axis=1)"
   ]
  },
  {
   "cell_type": "code",
   "execution_count": 19,
   "metadata": {},
   "outputs": [
    {
     "data": {
      "text/plain": [
       "(24166, 13)"
      ]
     },
     "execution_count": 19,
     "metadata": {},
     "output_type": "execute_result"
    }
   ],
   "source": [
    "only_crimes_by_block.shape"
   ]
  },
  {
   "cell_type": "code",
   "execution_count": 20,
   "metadata": {},
   "outputs": [
    {
     "name": "stdout",
     "output_type": "stream",
     "text": [
      "There are 6525 blocks that never experienced a crime incident.\n"
     ]
    }
   ],
   "source": [
    "print(f'There are {30691 - only_crimes_by_block.shape[0]} blocks that never experienced a crime incident.')\n"
   ]
  },
  {
   "cell_type": "code",
   "execution_count": 21,
   "metadata": {},
   "outputs": [],
   "source": [
    "crimes_by_block = pd.merge(blocks, only_crimes_by_block, on='GEOID10', how=\"left\")"
   ]
  },
  {
   "cell_type": "code",
   "execution_count": 22,
   "metadata": {},
   "outputs": [
    {
     "data": {
      "text/plain": [
       "(30691, 29)"
      ]
     },
     "execution_count": 22,
     "metadata": {},
     "output_type": "execute_result"
    }
   ],
   "source": [
    "crimes_by_block = crimes_by_block.fillna(0)\n",
    "crimes_by_block.shape # Same number of observations as the original Block Data."
   ]
  },
  {
   "cell_type": "code",
   "execution_count": 23,
   "metadata": {},
   "outputs": [
    {
     "data": {
      "text/plain": [
       "1820212.0"
      ]
     },
     "execution_count": 23,
     "metadata": {},
     "output_type": "execute_result"
    }
   ],
   "source": [
    "crimes_by_block[['2010', '2011', '2012', '2013', '2014', '2015',\n",
    "       '2016', '2017', '2018', '2019']].sum().sum()"
   ]
  },
  {
   "cell_type": "code",
   "execution_count": 24,
   "metadata": {},
   "outputs": [],
   "source": [
    "# Dropping 2020, 2021 years\n",
    "\n",
    "crimes_by_block = crimes_by_block[['geometry', 'GEOID10', '2010', '2011', \n",
    "                                   '2012', '2013', '2014', '2015', \n",
    "                                   '2016', '2017', '2018', '2019']] "
   ]
  },
  {
   "cell_type": "markdown",
   "metadata": {},
   "source": [
    "#### __Joining Covenent Data with Block Shapefile:__"
   ]
  },
  {
   "cell_type": "code",
   "execution_count": 25,
   "metadata": {},
   "outputs": [
    {
     "data": {
      "text/html": [
       "<div>\n",
       "<style scoped>\n",
       "    .dataframe tbody tr th:only-of-type {\n",
       "        vertical-align: middle;\n",
       "    }\n",
       "\n",
       "    .dataframe tbody tr th {\n",
       "        vertical-align: top;\n",
       "    }\n",
       "\n",
       "    .dataframe thead th {\n",
       "        text-align: right;\n",
       "    }\n",
       "</style>\n",
       "<table border=\"1\" class=\"dataframe\">\n",
       "  <thead>\n",
       "    <tr style=\"text-align: right;\">\n",
       "      <th></th>\n",
       "      <th>Address</th>\n",
       "      <th>Zip Code</th>\n",
       "      <th>Machine Readable Address</th>\n",
       "      <th>Year of Covenant</th>\n",
       "      <th>Year of Year of Covenant</th>\n",
       "      <th>Council District</th>\n",
       "      <th>Covenant</th>\n",
       "      <th>Year of Covenant.1</th>\n",
       "      <th>% Affordable</th>\n",
       "      <th>Affordable %</th>\n",
       "      <th>Affordable Units</th>\n",
       "      <th>Filter Covenant Year</th>\n",
       "      <th>Lat</th>\n",
       "      <th>Lng</th>\n",
       "      <th>Total Units</th>\n",
       "      <th>geometry</th>\n",
       "    </tr>\n",
       "  </thead>\n",
       "  <tbody>\n",
       "    <tr>\n",
       "      <th>0</th>\n",
       "      <td>8747 N.Sepulveda Blvd, North Hills</td>\n",
       "      <td>91301</td>\n",
       "      <td>8747 N.Sepulveda Blvd, North Hills</td>\n",
       "      <td>2010</td>\n",
       "      <td>2010</td>\n",
       "      <td>6</td>\n",
       "      <td>2010</td>\n",
       "      <td>2010</td>\n",
       "      <td>0.105263</td>\n",
       "      <td>10.526316</td>\n",
       "      <td>4</td>\n",
       "      <td>2010</td>\n",
       "      <td>34.229631</td>\n",
       "      <td>-118.468193</td>\n",
       "      <td>38</td>\n",
       "      <td>POINT (-118.46819 34.22963)</td>\n",
       "    </tr>\n",
       "    <tr>\n",
       "      <th>1</th>\n",
       "      <td>14349-14353 W. Friar St, Van Nuys</td>\n",
       "      <td>91401</td>\n",
       "      <td>14349 W. Friar St, Van Nuys</td>\n",
       "      <td>2010</td>\n",
       "      <td>2010</td>\n",
       "      <td>6</td>\n",
       "      <td>2010</td>\n",
       "      <td>2010</td>\n",
       "      <td>0.111111</td>\n",
       "      <td>11.111111</td>\n",
       "      <td>2</td>\n",
       "      <td>2010</td>\n",
       "      <td>34.185966</td>\n",
       "      <td>-118.446006</td>\n",
       "      <td>18</td>\n",
       "      <td>POINT (-118.44601 34.18597)</td>\n",
       "    </tr>\n",
       "    <tr>\n",
       "      <th>2</th>\n",
       "      <td>1813-1819 Prosser, Los Angeles</td>\n",
       "      <td>90027</td>\n",
       "      <td>1813 Prosser, Los Angeles</td>\n",
       "      <td>2010</td>\n",
       "      <td>2010</td>\n",
       "      <td>5</td>\n",
       "      <td>2010</td>\n",
       "      <td>2010</td>\n",
       "      <td>0.095238</td>\n",
       "      <td>9.523810</td>\n",
       "      <td>2</td>\n",
       "      <td>2010</td>\n",
       "      <td>34.052958</td>\n",
       "      <td>-118.429181</td>\n",
       "      <td>21</td>\n",
       "      <td>POINT (-118.42918 34.05296)</td>\n",
       "    </tr>\n",
       "    <tr>\n",
       "      <th>3</th>\n",
       "      <td>510 Landfair Ave, Los Angeles</td>\n",
       "      <td>90024</td>\n",
       "      <td>510 Landfair Ave, Los Angeles</td>\n",
       "      <td>2010</td>\n",
       "      <td>2010</td>\n",
       "      <td>5</td>\n",
       "      <td>2010</td>\n",
       "      <td>2010</td>\n",
       "      <td>0.055556</td>\n",
       "      <td>5.555556</td>\n",
       "      <td>2</td>\n",
       "      <td>2010</td>\n",
       "      <td>34.068512</td>\n",
       "      <td>-118.450467</td>\n",
       "      <td>36</td>\n",
       "      <td>POINT (-118.45047 34.06851)</td>\n",
       "    </tr>\n",
       "    <tr>\n",
       "      <th>4</th>\n",
       "      <td>11901 Goshen Ave, Los Angeles</td>\n",
       "      <td>90049</td>\n",
       "      <td>11901 Goshen Ave, Los Angeles</td>\n",
       "      <td>2010</td>\n",
       "      <td>2010</td>\n",
       "      <td>11</td>\n",
       "      <td>2010</td>\n",
       "      <td>2010</td>\n",
       "      <td>0.004545</td>\n",
       "      <td>0.454545</td>\n",
       "      <td>1</td>\n",
       "      <td>2010</td>\n",
       "      <td>34.047861</td>\n",
       "      <td>-118.465273</td>\n",
       "      <td>220</td>\n",
       "      <td>POINT (-118.46527 34.04786)</td>\n",
       "    </tr>\n",
       "  </tbody>\n",
       "</table>\n",
       "</div>"
      ],
      "text/plain": [
       "                              Address  Zip Code  \\\n",
       "0  8747 N.Sepulveda Blvd, North Hills     91301   \n",
       "1   14349-14353 W. Friar St, Van Nuys     91401   \n",
       "2      1813-1819 Prosser, Los Angeles     90027   \n",
       "3       510 Landfair Ave, Los Angeles     90024   \n",
       "4       11901 Goshen Ave, Los Angeles     90049   \n",
       "\n",
       "             Machine Readable Address  Year of Covenant  \\\n",
       "0  8747 N.Sepulveda Blvd, North Hills              2010   \n",
       "1         14349 W. Friar St, Van Nuys              2010   \n",
       "2           1813 Prosser, Los Angeles              2010   \n",
       "3       510 Landfair Ave, Los Angeles              2010   \n",
       "4       11901 Goshen Ave, Los Angeles              2010   \n",
       "\n",
       "   Year of Year of Covenant  Council District  Covenant  Year of Covenant.1  \\\n",
       "0                      2010                 6      2010                2010   \n",
       "1                      2010                 6      2010                2010   \n",
       "2                      2010                 5      2010                2010   \n",
       "3                      2010                 5      2010                2010   \n",
       "4                      2010                11      2010                2010   \n",
       "\n",
       "   % Affordable  Affordable %  Affordable Units  Filter Covenant Year  \\\n",
       "0      0.105263     10.526316                 4                  2010   \n",
       "1      0.111111     11.111111                 2                  2010   \n",
       "2      0.095238      9.523810                 2                  2010   \n",
       "3      0.055556      5.555556                 2                  2010   \n",
       "4      0.004545      0.454545                 1                  2010   \n",
       "\n",
       "         Lat         Lng  Total Units                     geometry  \n",
       "0  34.229631 -118.468193           38  POINT (-118.46819 34.22963)  \n",
       "1  34.185966 -118.446006           18  POINT (-118.44601 34.18597)  \n",
       "2  34.052958 -118.429181           21  POINT (-118.42918 34.05296)  \n",
       "3  34.068512 -118.450467           36  POINT (-118.45047 34.06851)  \n",
       "4  34.047861 -118.465273          220  POINT (-118.46527 34.04786)  "
      ]
     },
     "execution_count": 25,
     "metadata": {},
     "output_type": "execute_result"
    }
   ],
   "source": [
    "covs.head(5)"
   ]
  },
  {
   "cell_type": "code",
   "execution_count": 26,
   "metadata": {},
   "outputs": [],
   "source": [
    "covs['Year of Covenant'] = covs['Year of Covenant'].astype(str)"
   ]
  },
  {
   "cell_type": "code",
   "execution_count": 27,
   "metadata": {},
   "outputs": [
    {
     "name": "stderr",
     "output_type": "stream",
     "text": [
      "/Users/vivekadury/opt/anaconda3/lib/python3.8/site-packages/IPython/core/interactiveshell.py:3338: FutureWarning: The `op` parameter is deprecated and will be removed in a future release. Please use the `predicate` parameter instead.\n",
      "  if (await self.run_code(code, result,  async_=asy)):\n"
     ]
    }
   ],
   "source": [
    "points = covs[['Year of Covenant', 'geometry']]\n",
    "polygons = blocks[['GEOID10', 'geometry']]\n",
    "\n",
    "temp_2 = gpd.sjoin(points, polygons, how='inner', op='intersects')"
   ]
  },
  {
   "cell_type": "code",
   "execution_count": 28,
   "metadata": {},
   "outputs": [],
   "source": [
    "first_covs = temp_2.sort_values(by=['Year of Covenant']).drop_duplicates(subset=['GEOID10']).rename(columns={'Year of Covenant': 'yfirst_cov'})\n",
    "first_covs = first_covs[['yfirst_cov', 'GEOID10']]"
   ]
  },
  {
   "cell_type": "code",
   "execution_count": 29,
   "metadata": {},
   "outputs": [],
   "source": [
    "temp_2['const'] = 1"
   ]
  },
  {
   "cell_type": "code",
   "execution_count": 30,
   "metadata": {},
   "outputs": [],
   "source": [
    "covs_by_block_NOAGG = pd.pivot_table(temp_2, values='const', index=['GEOID10'],\n",
    "                    columns=['Year of Covenant'], aggfunc=np.sum)\n",
    "only_covs_by_block = covs_by_block_NOAGG.fillna(0)"
   ]
  },
  {
   "cell_type": "code",
   "execution_count": 31,
   "metadata": {},
   "outputs": [
    {
     "data": {
      "text/plain": [
       "1283.0"
      ]
     },
     "execution_count": 31,
     "metadata": {},
     "output_type": "execute_result"
    }
   ],
   "source": [
    "covs_by_block_NOAGG.sum().sum() # The original table had 1302 observations."
   ]
  },
  {
   "cell_type": "code",
   "execution_count": 32,
   "metadata": {},
   "outputs": [],
   "source": [
    "only_covs_by_block = only_covs_by_block.cumsum(axis = 1)"
   ]
  },
  {
   "cell_type": "code",
   "execution_count": 33,
   "metadata": {},
   "outputs": [],
   "source": [
    "## ASSUMPTION:\n",
    "only_covs_by_block = only_covs_by_block.mask(only_covs_by_block > 1,1)"
   ]
  },
  {
   "cell_type": "code",
   "execution_count": 34,
   "metadata": {},
   "outputs": [
    {
     "data": {
      "text/plain": [
       "1041"
      ]
     },
     "execution_count": 34,
     "metadata": {},
     "output_type": "execute_result"
    }
   ],
   "source": [
    "only_covs_by_block.shape[0]"
   ]
  },
  {
   "cell_type": "code",
   "execution_count": 35,
   "metadata": {},
   "outputs": [
    {
     "name": "stdout",
     "output_type": "stream",
     "text": [
      "There are 29650 blocks that never received a affordable housing covenent.\n"
     ]
    }
   ],
   "source": [
    "print(f'There are {30691 - only_covs_by_block.shape[0]} blocks that never received a affordable housing covenent.')\n"
   ]
  },
  {
   "cell_type": "code",
   "execution_count": null,
   "metadata": {},
   "outputs": [],
   "source": []
  },
  {
   "cell_type": "code",
   "execution_count": 36,
   "metadata": {},
   "outputs": [],
   "source": [
    "covs_by_block = pd.merge(blocks, only_covs_by_block, on='GEOID10', how= \"left\")"
   ]
  },
  {
   "cell_type": "code",
   "execution_count": 37,
   "metadata": {},
   "outputs": [],
   "source": [
    "covs_by_block = covs_by_block[['geometry', 'GEOID10', '2010', '2011', \n",
    "                                   '2012', '2013', '2014', '2015', '2016', \n",
    "                               '2017', '2018', '2019', '2020', '2021']].fillna(0)"
   ]
  },
  {
   "cell_type": "code",
   "execution_count": 38,
   "metadata": {},
   "outputs": [
    {
     "data": {
      "text/html": [
       "<div>\n",
       "<style scoped>\n",
       "    .dataframe tbody tr th:only-of-type {\n",
       "        vertical-align: middle;\n",
       "    }\n",
       "\n",
       "    .dataframe tbody tr th {\n",
       "        vertical-align: top;\n",
       "    }\n",
       "\n",
       "    .dataframe thead th {\n",
       "        text-align: right;\n",
       "    }\n",
       "</style>\n",
       "<table border=\"1\" class=\"dataframe\">\n",
       "  <thead>\n",
       "    <tr style=\"text-align: right;\">\n",
       "      <th></th>\n",
       "      <th>geometry</th>\n",
       "      <th>GEOID10</th>\n",
       "      <th>2010</th>\n",
       "      <th>2011</th>\n",
       "      <th>2012</th>\n",
       "      <th>2013</th>\n",
       "      <th>2014</th>\n",
       "      <th>2015</th>\n",
       "      <th>2016</th>\n",
       "      <th>2017</th>\n",
       "      <th>2018</th>\n",
       "      <th>2019</th>\n",
       "      <th>2020</th>\n",
       "      <th>2021</th>\n",
       "    </tr>\n",
       "  </thead>\n",
       "  <tbody>\n",
       "    <tr>\n",
       "      <th>0</th>\n",
       "      <td>POLYGON ((-118.55912 34.04711, -118.55965 34.0...</td>\n",
       "      <td>060372626043000</td>\n",
       "      <td>0.0</td>\n",
       "      <td>0.0</td>\n",
       "      <td>0.0</td>\n",
       "      <td>0.0</td>\n",
       "      <td>0.0</td>\n",
       "      <td>0.0</td>\n",
       "      <td>0.0</td>\n",
       "      <td>0.0</td>\n",
       "      <td>0.0</td>\n",
       "      <td>0.0</td>\n",
       "      <td>0.0</td>\n",
       "      <td>0.0</td>\n",
       "    </tr>\n",
       "    <tr>\n",
       "      <th>1</th>\n",
       "      <td>POLYGON ((-118.55799 34.04871, -118.55801 34.0...</td>\n",
       "      <td>060372626043001</td>\n",
       "      <td>0.0</td>\n",
       "      <td>0.0</td>\n",
       "      <td>0.0</td>\n",
       "      <td>0.0</td>\n",
       "      <td>0.0</td>\n",
       "      <td>0.0</td>\n",
       "      <td>0.0</td>\n",
       "      <td>0.0</td>\n",
       "      <td>0.0</td>\n",
       "      <td>0.0</td>\n",
       "      <td>0.0</td>\n",
       "      <td>0.0</td>\n",
       "    </tr>\n",
       "    <tr>\n",
       "      <th>2</th>\n",
       "      <td>POLYGON ((-118.55912 34.04711, -118.55973 34.0...</td>\n",
       "      <td>060379800191020</td>\n",
       "      <td>0.0</td>\n",
       "      <td>0.0</td>\n",
       "      <td>0.0</td>\n",
       "      <td>0.0</td>\n",
       "      <td>0.0</td>\n",
       "      <td>0.0</td>\n",
       "      <td>0.0</td>\n",
       "      <td>0.0</td>\n",
       "      <td>0.0</td>\n",
       "      <td>0.0</td>\n",
       "      <td>0.0</td>\n",
       "      <td>0.0</td>\n",
       "    </tr>\n",
       "    <tr>\n",
       "      <th>3</th>\n",
       "      <td>POLYGON ((-118.56866 34.07184, -118.56898 34.0...</td>\n",
       "      <td>060379800191013</td>\n",
       "      <td>0.0</td>\n",
       "      <td>0.0</td>\n",
       "      <td>0.0</td>\n",
       "      <td>0.0</td>\n",
       "      <td>0.0</td>\n",
       "      <td>0.0</td>\n",
       "      <td>0.0</td>\n",
       "      <td>0.0</td>\n",
       "      <td>0.0</td>\n",
       "      <td>0.0</td>\n",
       "      <td>0.0</td>\n",
       "      <td>0.0</td>\n",
       "    </tr>\n",
       "    <tr>\n",
       "      <th>4</th>\n",
       "      <td>POLYGON ((-118.56769 34.07935, -118.56771 34.0...</td>\n",
       "      <td>060372626011011</td>\n",
       "      <td>0.0</td>\n",
       "      <td>0.0</td>\n",
       "      <td>0.0</td>\n",
       "      <td>0.0</td>\n",
       "      <td>0.0</td>\n",
       "      <td>0.0</td>\n",
       "      <td>0.0</td>\n",
       "      <td>0.0</td>\n",
       "      <td>0.0</td>\n",
       "      <td>0.0</td>\n",
       "      <td>0.0</td>\n",
       "      <td>0.0</td>\n",
       "    </tr>\n",
       "    <tr>\n",
       "      <th>...</th>\n",
       "      <td>...</td>\n",
       "      <td>...</td>\n",
       "      <td>...</td>\n",
       "      <td>...</td>\n",
       "      <td>...</td>\n",
       "      <td>...</td>\n",
       "      <td>...</td>\n",
       "      <td>...</td>\n",
       "      <td>...</td>\n",
       "      <td>...</td>\n",
       "      <td>...</td>\n",
       "      <td>...</td>\n",
       "      <td>...</td>\n",
       "      <td>...</td>\n",
       "    </tr>\n",
       "    <tr>\n",
       "      <th>30686</th>\n",
       "      <td>POLYGON ((-118.15913 34.09860, -118.15913 34.0...</td>\n",
       "      <td>060374807033012</td>\n",
       "      <td>0.0</td>\n",
       "      <td>0.0</td>\n",
       "      <td>0.0</td>\n",
       "      <td>0.0</td>\n",
       "      <td>0.0</td>\n",
       "      <td>0.0</td>\n",
       "      <td>0.0</td>\n",
       "      <td>0.0</td>\n",
       "      <td>0.0</td>\n",
       "      <td>0.0</td>\n",
       "      <td>0.0</td>\n",
       "      <td>0.0</td>\n",
       "    </tr>\n",
       "    <tr>\n",
       "      <th>30687</th>\n",
       "      <td>POLYGON ((-118.15671 34.09860, -118.15671 34.0...</td>\n",
       "      <td>060372011203001</td>\n",
       "      <td>0.0</td>\n",
       "      <td>0.0</td>\n",
       "      <td>0.0</td>\n",
       "      <td>0.0</td>\n",
       "      <td>0.0</td>\n",
       "      <td>0.0</td>\n",
       "      <td>0.0</td>\n",
       "      <td>0.0</td>\n",
       "      <td>0.0</td>\n",
       "      <td>0.0</td>\n",
       "      <td>0.0</td>\n",
       "      <td>0.0</td>\n",
       "    </tr>\n",
       "    <tr>\n",
       "      <th>30688</th>\n",
       "      <td>POLYGON ((-118.15795 34.09867, -118.15678 34.0...</td>\n",
       "      <td>060374807033011</td>\n",
       "      <td>0.0</td>\n",
       "      <td>0.0</td>\n",
       "      <td>0.0</td>\n",
       "      <td>0.0</td>\n",
       "      <td>0.0</td>\n",
       "      <td>0.0</td>\n",
       "      <td>0.0</td>\n",
       "      <td>0.0</td>\n",
       "      <td>0.0</td>\n",
       "      <td>0.0</td>\n",
       "      <td>0.0</td>\n",
       "      <td>0.0</td>\n",
       "    </tr>\n",
       "    <tr>\n",
       "      <th>30689</th>\n",
       "      <td>POLYGON ((-118.15536 34.09858, -118.15529 34.0...</td>\n",
       "      <td>060372011203000</td>\n",
       "      <td>0.0</td>\n",
       "      <td>0.0</td>\n",
       "      <td>0.0</td>\n",
       "      <td>0.0</td>\n",
       "      <td>0.0</td>\n",
       "      <td>0.0</td>\n",
       "      <td>1.0</td>\n",
       "      <td>1.0</td>\n",
       "      <td>1.0</td>\n",
       "      <td>1.0</td>\n",
       "      <td>1.0</td>\n",
       "      <td>1.0</td>\n",
       "    </tr>\n",
       "    <tr>\n",
       "      <th>30690</th>\n",
       "      <td>POLYGON ((-118.15536 34.09858, -118.15553 34.0...</td>\n",
       "      <td>060374807042024</td>\n",
       "      <td>0.0</td>\n",
       "      <td>0.0</td>\n",
       "      <td>0.0</td>\n",
       "      <td>0.0</td>\n",
       "      <td>0.0</td>\n",
       "      <td>0.0</td>\n",
       "      <td>0.0</td>\n",
       "      <td>0.0</td>\n",
       "      <td>0.0</td>\n",
       "      <td>0.0</td>\n",
       "      <td>0.0</td>\n",
       "      <td>0.0</td>\n",
       "    </tr>\n",
       "  </tbody>\n",
       "</table>\n",
       "<p>30691 rows × 14 columns</p>\n",
       "</div>"
      ],
      "text/plain": [
       "                                                geometry          GEOID10  \\\n",
       "0      POLYGON ((-118.55912 34.04711, -118.55965 34.0...  060372626043000   \n",
       "1      POLYGON ((-118.55799 34.04871, -118.55801 34.0...  060372626043001   \n",
       "2      POLYGON ((-118.55912 34.04711, -118.55973 34.0...  060379800191020   \n",
       "3      POLYGON ((-118.56866 34.07184, -118.56898 34.0...  060379800191013   \n",
       "4      POLYGON ((-118.56769 34.07935, -118.56771 34.0...  060372626011011   \n",
       "...                                                  ...              ...   \n",
       "30686  POLYGON ((-118.15913 34.09860, -118.15913 34.0...  060374807033012   \n",
       "30687  POLYGON ((-118.15671 34.09860, -118.15671 34.0...  060372011203001   \n",
       "30688  POLYGON ((-118.15795 34.09867, -118.15678 34.0...  060374807033011   \n",
       "30689  POLYGON ((-118.15536 34.09858, -118.15529 34.0...  060372011203000   \n",
       "30690  POLYGON ((-118.15536 34.09858, -118.15553 34.0...  060374807042024   \n",
       "\n",
       "       2010  2011  2012  2013  2014  2015  2016  2017  2018  2019  2020  2021  \n",
       "0       0.0   0.0   0.0   0.0   0.0   0.0   0.0   0.0   0.0   0.0   0.0   0.0  \n",
       "1       0.0   0.0   0.0   0.0   0.0   0.0   0.0   0.0   0.0   0.0   0.0   0.0  \n",
       "2       0.0   0.0   0.0   0.0   0.0   0.0   0.0   0.0   0.0   0.0   0.0   0.0  \n",
       "3       0.0   0.0   0.0   0.0   0.0   0.0   0.0   0.0   0.0   0.0   0.0   0.0  \n",
       "4       0.0   0.0   0.0   0.0   0.0   0.0   0.0   0.0   0.0   0.0   0.0   0.0  \n",
       "...     ...   ...   ...   ...   ...   ...   ...   ...   ...   ...   ...   ...  \n",
       "30686   0.0   0.0   0.0   0.0   0.0   0.0   0.0   0.0   0.0   0.0   0.0   0.0  \n",
       "30687   0.0   0.0   0.0   0.0   0.0   0.0   0.0   0.0   0.0   0.0   0.0   0.0  \n",
       "30688   0.0   0.0   0.0   0.0   0.0   0.0   0.0   0.0   0.0   0.0   0.0   0.0  \n",
       "30689   0.0   0.0   0.0   0.0   0.0   0.0   1.0   1.0   1.0   1.0   1.0   1.0  \n",
       "30690   0.0   0.0   0.0   0.0   0.0   0.0   0.0   0.0   0.0   0.0   0.0   0.0  \n",
       "\n",
       "[30691 rows x 14 columns]"
      ]
     },
     "execution_count": 38,
     "metadata": {},
     "output_type": "execute_result"
    }
   ],
   "source": [
    "covs_by_block"
   ]
  },
  {
   "cell_type": "code",
   "execution_count": null,
   "metadata": {},
   "outputs": [],
   "source": []
  },
  {
   "cell_type": "code",
   "execution_count": 39,
   "metadata": {},
   "outputs": [],
   "source": [
    "# FIND YEAR FOR WHICH THE BLOCK RECEIVED ItS FIRST COVENENt"
   ]
  },
  {
   "cell_type": "markdown",
   "metadata": {},
   "source": [
    "#### __Constructing the dataset for this paper:__"
   ]
  },
  {
   "cell_type": "code",
   "execution_count": 40,
   "metadata": {},
   "outputs": [
    {
     "name": "stdout",
     "output_type": "stream",
     "text": [
      "There are 954 blocks that received an affordable housing covenent and has existing crime data.\n"
     ]
    }
   ],
   "source": [
    "# How many blocks that received an affordable housing covenent have crime data?\n",
    "\n",
    "only_data = pd.merge(only_covs_by_block, only_crimes_by_block, \n",
    "                     on= 'GEOID10', suffixes=('_covs', '_crimes'))\n",
    "print(f'There are {only_data.shape[0]} blocks that received an affordable housing covenent and has existing crime data.')\n",
    "\n"
   ]
  },
  {
   "cell_type": "code",
   "execution_count": 41,
   "metadata": {},
   "outputs": [],
   "source": [
    "dataset = pd.merge(covs_by_block, \n",
    "                   crimes_by_block, on= 'GEOID10', suffixes=('_covs', '_crimes')).rename(columns={\"2020\": \"2020_covs\", \"2021\": \"2021_covs\"})"
   ]
  },
  {
   "cell_type": "markdown",
   "metadata": {},
   "source": [
    "Each set is one block, when you go to run your regression is to make is it long, each obersvation is going to be a year and a block\n",
    "- use reshape in STATA"
   ]
  },
  {
   "cell_type": "code",
   "execution_count": 42,
   "metadata": {},
   "outputs": [
    {
     "data": {
      "text/html": [
       "<div>\n",
       "<style scoped>\n",
       "    .dataframe tbody tr th:only-of-type {\n",
       "        vertical-align: middle;\n",
       "    }\n",
       "\n",
       "    .dataframe tbody tr th {\n",
       "        vertical-align: top;\n",
       "    }\n",
       "\n",
       "    .dataframe thead th {\n",
       "        text-align: right;\n",
       "    }\n",
       "</style>\n",
       "<table border=\"1\" class=\"dataframe\">\n",
       "  <thead>\n",
       "    <tr style=\"text-align: right;\">\n",
       "      <th></th>\n",
       "      <th>geometry_covs</th>\n",
       "      <th>GEOID10</th>\n",
       "      <th>2010_covs</th>\n",
       "      <th>2011_covs</th>\n",
       "      <th>2012_covs</th>\n",
       "      <th>2013_covs</th>\n",
       "      <th>2014_covs</th>\n",
       "      <th>2015_covs</th>\n",
       "      <th>2016_covs</th>\n",
       "      <th>2017_covs</th>\n",
       "      <th>...</th>\n",
       "      <th>2010_crimes</th>\n",
       "      <th>2011_crimes</th>\n",
       "      <th>2012_crimes</th>\n",
       "      <th>2013_crimes</th>\n",
       "      <th>2014_crimes</th>\n",
       "      <th>2015_crimes</th>\n",
       "      <th>2016_crimes</th>\n",
       "      <th>2017_crimes</th>\n",
       "      <th>2018_crimes</th>\n",
       "      <th>2019_crimes</th>\n",
       "    </tr>\n",
       "  </thead>\n",
       "  <tbody>\n",
       "    <tr>\n",
       "      <th>0</th>\n",
       "      <td>POLYGON ((-118.55912 34.04711, -118.55965 34.0...</td>\n",
       "      <td>060372626043000</td>\n",
       "      <td>0.0</td>\n",
       "      <td>0.0</td>\n",
       "      <td>0.0</td>\n",
       "      <td>0.0</td>\n",
       "      <td>0.0</td>\n",
       "      <td>0.0</td>\n",
       "      <td>0.0</td>\n",
       "      <td>0.0</td>\n",
       "      <td>...</td>\n",
       "      <td>12.0</td>\n",
       "      <td>20.0</td>\n",
       "      <td>9.0</td>\n",
       "      <td>30.0</td>\n",
       "      <td>18.0</td>\n",
       "      <td>25.0</td>\n",
       "      <td>14.0</td>\n",
       "      <td>18.0</td>\n",
       "      <td>26.0</td>\n",
       "      <td>16.0</td>\n",
       "    </tr>\n",
       "    <tr>\n",
       "      <th>1</th>\n",
       "      <td>POLYGON ((-118.55799 34.04871, -118.55801 34.0...</td>\n",
       "      <td>060372626043001</td>\n",
       "      <td>0.0</td>\n",
       "      <td>0.0</td>\n",
       "      <td>0.0</td>\n",
       "      <td>0.0</td>\n",
       "      <td>0.0</td>\n",
       "      <td>0.0</td>\n",
       "      <td>0.0</td>\n",
       "      <td>0.0</td>\n",
       "      <td>...</td>\n",
       "      <td>2.0</td>\n",
       "      <td>3.0</td>\n",
       "      <td>2.0</td>\n",
       "      <td>1.0</td>\n",
       "      <td>1.0</td>\n",
       "      <td>0.0</td>\n",
       "      <td>1.0</td>\n",
       "      <td>0.0</td>\n",
       "      <td>1.0</td>\n",
       "      <td>1.0</td>\n",
       "    </tr>\n",
       "    <tr>\n",
       "      <th>2</th>\n",
       "      <td>POLYGON ((-118.55912 34.04711, -118.55973 34.0...</td>\n",
       "      <td>060379800191020</td>\n",
       "      <td>0.0</td>\n",
       "      <td>0.0</td>\n",
       "      <td>0.0</td>\n",
       "      <td>0.0</td>\n",
       "      <td>0.0</td>\n",
       "      <td>0.0</td>\n",
       "      <td>0.0</td>\n",
       "      <td>0.0</td>\n",
       "      <td>...</td>\n",
       "      <td>0.0</td>\n",
       "      <td>0.0</td>\n",
       "      <td>0.0</td>\n",
       "      <td>0.0</td>\n",
       "      <td>0.0</td>\n",
       "      <td>2.0</td>\n",
       "      <td>0.0</td>\n",
       "      <td>0.0</td>\n",
       "      <td>0.0</td>\n",
       "      <td>0.0</td>\n",
       "    </tr>\n",
       "    <tr>\n",
       "      <th>3</th>\n",
       "      <td>POLYGON ((-118.56866 34.07184, -118.56898 34.0...</td>\n",
       "      <td>060379800191013</td>\n",
       "      <td>0.0</td>\n",
       "      <td>0.0</td>\n",
       "      <td>0.0</td>\n",
       "      <td>0.0</td>\n",
       "      <td>0.0</td>\n",
       "      <td>0.0</td>\n",
       "      <td>0.0</td>\n",
       "      <td>0.0</td>\n",
       "      <td>...</td>\n",
       "      <td>0.0</td>\n",
       "      <td>0.0</td>\n",
       "      <td>0.0</td>\n",
       "      <td>0.0</td>\n",
       "      <td>0.0</td>\n",
       "      <td>0.0</td>\n",
       "      <td>0.0</td>\n",
       "      <td>0.0</td>\n",
       "      <td>0.0</td>\n",
       "      <td>0.0</td>\n",
       "    </tr>\n",
       "    <tr>\n",
       "      <th>4</th>\n",
       "      <td>POLYGON ((-118.56769 34.07935, -118.56771 34.0...</td>\n",
       "      <td>060372626011011</td>\n",
       "      <td>0.0</td>\n",
       "      <td>0.0</td>\n",
       "      <td>0.0</td>\n",
       "      <td>0.0</td>\n",
       "      <td>0.0</td>\n",
       "      <td>0.0</td>\n",
       "      <td>0.0</td>\n",
       "      <td>0.0</td>\n",
       "      <td>...</td>\n",
       "      <td>2.0</td>\n",
       "      <td>1.0</td>\n",
       "      <td>0.0</td>\n",
       "      <td>3.0</td>\n",
       "      <td>0.0</td>\n",
       "      <td>0.0</td>\n",
       "      <td>1.0</td>\n",
       "      <td>3.0</td>\n",
       "      <td>1.0</td>\n",
       "      <td>0.0</td>\n",
       "    </tr>\n",
       "    <tr>\n",
       "      <th>...</th>\n",
       "      <td>...</td>\n",
       "      <td>...</td>\n",
       "      <td>...</td>\n",
       "      <td>...</td>\n",
       "      <td>...</td>\n",
       "      <td>...</td>\n",
       "      <td>...</td>\n",
       "      <td>...</td>\n",
       "      <td>...</td>\n",
       "      <td>...</td>\n",
       "      <td>...</td>\n",
       "      <td>...</td>\n",
       "      <td>...</td>\n",
       "      <td>...</td>\n",
       "      <td>...</td>\n",
       "      <td>...</td>\n",
       "      <td>...</td>\n",
       "      <td>...</td>\n",
       "      <td>...</td>\n",
       "      <td>...</td>\n",
       "      <td>...</td>\n",
       "    </tr>\n",
       "    <tr>\n",
       "      <th>30686</th>\n",
       "      <td>POLYGON ((-118.15913 34.09860, -118.15913 34.0...</td>\n",
       "      <td>060374807033012</td>\n",
       "      <td>0.0</td>\n",
       "      <td>0.0</td>\n",
       "      <td>0.0</td>\n",
       "      <td>0.0</td>\n",
       "      <td>0.0</td>\n",
       "      <td>0.0</td>\n",
       "      <td>0.0</td>\n",
       "      <td>0.0</td>\n",
       "      <td>...</td>\n",
       "      <td>0.0</td>\n",
       "      <td>0.0</td>\n",
       "      <td>0.0</td>\n",
       "      <td>0.0</td>\n",
       "      <td>0.0</td>\n",
       "      <td>0.0</td>\n",
       "      <td>0.0</td>\n",
       "      <td>0.0</td>\n",
       "      <td>0.0</td>\n",
       "      <td>0.0</td>\n",
       "    </tr>\n",
       "    <tr>\n",
       "      <th>30687</th>\n",
       "      <td>POLYGON ((-118.15671 34.09860, -118.15671 34.0...</td>\n",
       "      <td>060372011203001</td>\n",
       "      <td>0.0</td>\n",
       "      <td>0.0</td>\n",
       "      <td>0.0</td>\n",
       "      <td>0.0</td>\n",
       "      <td>0.0</td>\n",
       "      <td>0.0</td>\n",
       "      <td>0.0</td>\n",
       "      <td>0.0</td>\n",
       "      <td>...</td>\n",
       "      <td>1.0</td>\n",
       "      <td>0.0</td>\n",
       "      <td>1.0</td>\n",
       "      <td>2.0</td>\n",
       "      <td>1.0</td>\n",
       "      <td>3.0</td>\n",
       "      <td>0.0</td>\n",
       "      <td>2.0</td>\n",
       "      <td>0.0</td>\n",
       "      <td>1.0</td>\n",
       "    </tr>\n",
       "    <tr>\n",
       "      <th>30688</th>\n",
       "      <td>POLYGON ((-118.15795 34.09867, -118.15678 34.0...</td>\n",
       "      <td>060374807033011</td>\n",
       "      <td>0.0</td>\n",
       "      <td>0.0</td>\n",
       "      <td>0.0</td>\n",
       "      <td>0.0</td>\n",
       "      <td>0.0</td>\n",
       "      <td>0.0</td>\n",
       "      <td>0.0</td>\n",
       "      <td>0.0</td>\n",
       "      <td>...</td>\n",
       "      <td>0.0</td>\n",
       "      <td>0.0</td>\n",
       "      <td>0.0</td>\n",
       "      <td>0.0</td>\n",
       "      <td>0.0</td>\n",
       "      <td>0.0</td>\n",
       "      <td>0.0</td>\n",
       "      <td>0.0</td>\n",
       "      <td>0.0</td>\n",
       "      <td>0.0</td>\n",
       "    </tr>\n",
       "    <tr>\n",
       "      <th>30689</th>\n",
       "      <td>POLYGON ((-118.15536 34.09858, -118.15529 34.0...</td>\n",
       "      <td>060372011203000</td>\n",
       "      <td>0.0</td>\n",
       "      <td>0.0</td>\n",
       "      <td>0.0</td>\n",
       "      <td>0.0</td>\n",
       "      <td>0.0</td>\n",
       "      <td>0.0</td>\n",
       "      <td>1.0</td>\n",
       "      <td>1.0</td>\n",
       "      <td>...</td>\n",
       "      <td>14.0</td>\n",
       "      <td>8.0</td>\n",
       "      <td>26.0</td>\n",
       "      <td>19.0</td>\n",
       "      <td>12.0</td>\n",
       "      <td>1.0</td>\n",
       "      <td>2.0</td>\n",
       "      <td>4.0</td>\n",
       "      <td>3.0</td>\n",
       "      <td>1.0</td>\n",
       "    </tr>\n",
       "    <tr>\n",
       "      <th>30690</th>\n",
       "      <td>POLYGON ((-118.15536 34.09858, -118.15553 34.0...</td>\n",
       "      <td>060374807042024</td>\n",
       "      <td>0.0</td>\n",
       "      <td>0.0</td>\n",
       "      <td>0.0</td>\n",
       "      <td>0.0</td>\n",
       "      <td>0.0</td>\n",
       "      <td>0.0</td>\n",
       "      <td>0.0</td>\n",
       "      <td>0.0</td>\n",
       "      <td>...</td>\n",
       "      <td>4.0</td>\n",
       "      <td>1.0</td>\n",
       "      <td>4.0</td>\n",
       "      <td>0.0</td>\n",
       "      <td>2.0</td>\n",
       "      <td>0.0</td>\n",
       "      <td>0.0</td>\n",
       "      <td>0.0</td>\n",
       "      <td>0.0</td>\n",
       "      <td>0.0</td>\n",
       "    </tr>\n",
       "  </tbody>\n",
       "</table>\n",
       "<p>30691 rows × 25 columns</p>\n",
       "</div>"
      ],
      "text/plain": [
       "                                           geometry_covs          GEOID10  \\\n",
       "0      POLYGON ((-118.55912 34.04711, -118.55965 34.0...  060372626043000   \n",
       "1      POLYGON ((-118.55799 34.04871, -118.55801 34.0...  060372626043001   \n",
       "2      POLYGON ((-118.55912 34.04711, -118.55973 34.0...  060379800191020   \n",
       "3      POLYGON ((-118.56866 34.07184, -118.56898 34.0...  060379800191013   \n",
       "4      POLYGON ((-118.56769 34.07935, -118.56771 34.0...  060372626011011   \n",
       "...                                                  ...              ...   \n",
       "30686  POLYGON ((-118.15913 34.09860, -118.15913 34.0...  060374807033012   \n",
       "30687  POLYGON ((-118.15671 34.09860, -118.15671 34.0...  060372011203001   \n",
       "30688  POLYGON ((-118.15795 34.09867, -118.15678 34.0...  060374807033011   \n",
       "30689  POLYGON ((-118.15536 34.09858, -118.15529 34.0...  060372011203000   \n",
       "30690  POLYGON ((-118.15536 34.09858, -118.15553 34.0...  060374807042024   \n",
       "\n",
       "       2010_covs  2011_covs  2012_covs  2013_covs  2014_covs  2015_covs  \\\n",
       "0            0.0        0.0        0.0        0.0        0.0        0.0   \n",
       "1            0.0        0.0        0.0        0.0        0.0        0.0   \n",
       "2            0.0        0.0        0.0        0.0        0.0        0.0   \n",
       "3            0.0        0.0        0.0        0.0        0.0        0.0   \n",
       "4            0.0        0.0        0.0        0.0        0.0        0.0   \n",
       "...          ...        ...        ...        ...        ...        ...   \n",
       "30686        0.0        0.0        0.0        0.0        0.0        0.0   \n",
       "30687        0.0        0.0        0.0        0.0        0.0        0.0   \n",
       "30688        0.0        0.0        0.0        0.0        0.0        0.0   \n",
       "30689        0.0        0.0        0.0        0.0        0.0        0.0   \n",
       "30690        0.0        0.0        0.0        0.0        0.0        0.0   \n",
       "\n",
       "       2016_covs  2017_covs  ...  2010_crimes  2011_crimes  2012_crimes  \\\n",
       "0            0.0        0.0  ...         12.0         20.0          9.0   \n",
       "1            0.0        0.0  ...          2.0          3.0          2.0   \n",
       "2            0.0        0.0  ...          0.0          0.0          0.0   \n",
       "3            0.0        0.0  ...          0.0          0.0          0.0   \n",
       "4            0.0        0.0  ...          2.0          1.0          0.0   \n",
       "...          ...        ...  ...          ...          ...          ...   \n",
       "30686        0.0        0.0  ...          0.0          0.0          0.0   \n",
       "30687        0.0        0.0  ...          1.0          0.0          1.0   \n",
       "30688        0.0        0.0  ...          0.0          0.0          0.0   \n",
       "30689        1.0        1.0  ...         14.0          8.0         26.0   \n",
       "30690        0.0        0.0  ...          4.0          1.0          4.0   \n",
       "\n",
       "       2013_crimes 2014_crimes  2015_crimes  2016_crimes  2017_crimes  \\\n",
       "0             30.0        18.0         25.0         14.0         18.0   \n",
       "1              1.0         1.0          0.0          1.0          0.0   \n",
       "2              0.0         0.0          2.0          0.0          0.0   \n",
       "3              0.0         0.0          0.0          0.0          0.0   \n",
       "4              3.0         0.0          0.0          1.0          3.0   \n",
       "...            ...         ...          ...          ...          ...   \n",
       "30686          0.0         0.0          0.0          0.0          0.0   \n",
       "30687          2.0         1.0          3.0          0.0          2.0   \n",
       "30688          0.0         0.0          0.0          0.0          0.0   \n",
       "30689         19.0        12.0          1.0          2.0          4.0   \n",
       "30690          0.0         2.0          0.0          0.0          0.0   \n",
       "\n",
       "       2018_crimes  2019_crimes  \n",
       "0             26.0         16.0  \n",
       "1              1.0          1.0  \n",
       "2              0.0          0.0  \n",
       "3              0.0          0.0  \n",
       "4              1.0          0.0  \n",
       "...            ...          ...  \n",
       "30686          0.0          0.0  \n",
       "30687          0.0          1.0  \n",
       "30688          0.0          0.0  \n",
       "30689          3.0          1.0  \n",
       "30690          0.0          0.0  \n",
       "\n",
       "[30691 rows x 25 columns]"
      ]
     },
     "execution_count": 42,
     "metadata": {},
     "output_type": "execute_result"
    }
   ],
   "source": [
    "# Each set is one block, when you go to run your regression is to make is it long, each obersvation is going to be a year and a block, wide have to make fummy\n",
    "dataset\n"
   ]
  },
  {
   "cell_type": "code",
   "execution_count": 43,
   "metadata": {},
   "outputs": [],
   "source": [
    "dataset = gpd.GeoDataFrame(dataset.drop(columns = ['geometry_covs', \n",
    "                                                  'geometry_crimes']), geometry=dataset['geometry_crimes'], crs= 4326)\n"
   ]
  },
  {
   "cell_type": "code",
   "execution_count": 44,
   "metadata": {},
   "outputs": [
    {
     "data": {
      "text/plain": [
       "Index(['GEOID10', '2010_covs', '2011_covs', '2012_covs', '2013_covs',\n",
       "       '2014_covs', '2015_covs', '2016_covs', '2017_covs', '2018_covs',\n",
       "       '2019_covs', '2020_covs', '2021_covs', '2010_crimes', '2011_crimes',\n",
       "       '2012_crimes', '2013_crimes', '2014_crimes', '2015_crimes',\n",
       "       '2016_crimes', '2017_crimes', '2018_crimes', '2019_crimes', 'geometry'],\n",
       "      dtype='object')"
      ]
     },
     "execution_count": 44,
     "metadata": {},
     "output_type": "execute_result"
    }
   ],
   "source": [
    "dataset.columns"
   ]
  },
  {
   "cell_type": "code",
   "execution_count": 45,
   "metadata": {},
   "outputs": [],
   "source": [
    "dataset['total_crimes'] = dataset['2010_crimes'] + dataset['2011_crimes'] + dataset['2012_crimes']\n",
    "dataset['total_crimes'] = dataset['total_crimes'] + dataset['2013_crimes'] + dataset['2014_crimes']\n",
    "dataset['total_crimes'] = dataset['total_crimes'] + dataset['2015_crimes'] + dataset['2016_crimes']\n",
    "dataset['total_crimes'] = dataset['total_crimes'] + dataset['2017_crimes'] + dataset['2018_crimes']\n",
    "dataset['total_crimes'] = dataset['total_crimes'] + dataset['2019_crimes'] "
   ]
  },
  {
   "cell_type": "code",
   "execution_count": 46,
   "metadata": {},
   "outputs": [],
   "source": [
    "dataset = dataset.to_crs(2229) # reprojecting for maps"
   ]
  },
  {
   "cell_type": "code",
   "execution_count": 47,
   "metadata": {},
   "outputs": [],
   "source": [
    "# dataset.to_file('../intermediate/dataset/dataset.shp')"
   ]
  },
  {
   "cell_type": "code",
   "execution_count": 48,
   "metadata": {},
   "outputs": [],
   "source": [
    "dataset_normalized = dataset.merge(population_cityofla, how= 'inner',  on= 'GEOID10')"
   ]
  },
  {
   "cell_type": "code",
   "execution_count": 49,
   "metadata": {},
   "outputs": [],
   "source": [
    "dataset_normalized = dataset_normalized[~(dataset_normalized['POP'] == 0)] # dropping observations where block population equals 0.\n",
    "# The code above could also be done in STATA.\n",
    "\n",
    "dataset_normalized['2010_crimes'] = (dataset_normalized['2010_crimes'] / dataset_normalized['POP']) * 100\n",
    "\n",
    "dataset_normalized['2011_crimes'] = (dataset_normalized['2011_crimes'] / dataset_normalized['POP']) * 100\n",
    "\n",
    "dataset_normalized['2012_crimes'] = (dataset_normalized['2012_crimes'] / dataset_normalized['POP']) * 100\n",
    "\n",
    "dataset_normalized['2013_crimes'] = (dataset_normalized['2013_crimes'] / dataset_normalized['POP']) * 100\n",
    "\n",
    "dataset_normalized['2014_crimes'] = (dataset_normalized['2014_crimes'] / dataset_normalized['POP']) * 100\n",
    "\n",
    "dataset_normalized['2015_crimes'] = (dataset_normalized['2015_crimes'] / dataset_normalized['POP']) * 100\n",
    "\n",
    "dataset_normalized['2016_crimes'] = (dataset_normalized['2016_crimes'] / dataset_normalized['POP']) * 100\n",
    "\n",
    "dataset_normalized['2017_crimes'] = (dataset_normalized['2017_crimes'] / dataset_normalized['POP']) * 100\n",
    "\n",
    "dataset_normalized['2018_crimes'] = (dataset_normalized['2018_crimes'] / dataset_normalized['POP']) * 100\n",
    "\n",
    "dataset_normalized['2019_crimes'] = (dataset_normalized['2019_crimes'] / dataset_normalized['POP']) * 100\n",
    "\n",
    "dataset_normalized = gpd.GeoDataFrame(dataset_normalized.drop(columns=['geometry_x', 'geometry_y']), \n",
    "                                      geometry= dataset_normalized['geometry_x'], crs= \"EPSG:2229\")"
   ]
  },
  {
   "cell_type": "code",
   "execution_count": 50,
   "metadata": {},
   "outputs": [],
   "source": [
    "## Which blocks allow for multifamily development?\n",
    "zoning = gpd.read_file('../input/Los Angeles_zoning.geojson')"
   ]
  },
  {
   "cell_type": "code",
   "execution_count": 51,
   "metadata": {},
   "outputs": [
    {
     "name": "stderr",
     "output_type": "stream",
     "text": [
      "/Users/vivekadury/opt/anaconda3/lib/python3.8/site-packages/IPython/core/interactiveshell.py:3338: FutureWarning: The `op` parameter is deprecated and will be removed in a future release. Please use the `predicate` parameter instead.\n",
      "  if (await self.run_code(code, result,  async_=asy)):\n"
     ]
    }
   ],
   "source": [
    "zoning_SF = zoning[['zone_cat', 'geometry']]\n",
    "zoning_SF = zoning_SF[zoning_SF.zone_cat == 'SF']\n",
    "zoning_SF = zoning_SF.rename(columns= {'zone_cat': 'perm_SF'})\n",
    "zoning_SF = zoning_SF.to_crs('EPSG:2229')\n",
    "\n",
    "df = gpd.sjoin(dataset_normalized, zoning_SF, how='left', op='intersects')\n",
    "df = df[['GEOID10', 'perm_SF']].drop_duplicates()\n",
    "dataset_normalized = dataset_normalized.merge(df, how = 'left', on= 'GEOID10')\n",
    "dataset_normalized['perm_SF'] = dataset_normalized['perm_SF'].replace({'SF': 1}).fillna(0)"
   ]
  },
  {
   "cell_type": "code",
   "execution_count": 52,
   "metadata": {},
   "outputs": [
    {
     "name": "stderr",
     "output_type": "stream",
     "text": [
      "/Users/vivekadury/opt/anaconda3/lib/python3.8/site-packages/IPython/core/interactiveshell.py:3338: FutureWarning: The `op` parameter is deprecated and will be removed in a future release. Please use the `predicate` parameter instead.\n",
      "  if (await self.run_code(code, result,  async_=asy)):\n"
     ]
    }
   ],
   "source": [
    "zoning_MF = zoning[['zone_cat', 'geometry']]\n",
    "zoning_MF = zoning_MF[zoning_MF.zone_cat == 'MF']\n",
    "zoning_MF = zoning_MF.rename(columns= {'zone_cat': 'perm_MF'})\n",
    "zoning_MF = zoning_MF.to_crs('EPSG:2229')\n",
    "\n",
    "df = gpd.sjoin(dataset_normalized, zoning_MF, how='left', op='intersects')\n",
    "df = df[['GEOID10', 'perm_MF']].drop_duplicates()\n",
    "dataset_normalized = dataset_normalized.merge(df, how = 'left', on= 'GEOID10')\n",
    "dataset_normalized['perm_MF'] = dataset_normalized['perm_MF'].replace({'MF': 1}).fillna(0)"
   ]
  },
  {
   "cell_type": "code",
   "execution_count": 53,
   "metadata": {},
   "outputs": [
    {
     "name": "stderr",
     "output_type": "stream",
     "text": [
      "/Users/vivekadury/opt/anaconda3/lib/python3.8/site-packages/IPython/core/interactiveshell.py:3338: FutureWarning: The `op` parameter is deprecated and will be removed in a future release. Please use the `predicate` parameter instead.\n",
      "  if (await self.run_code(code, result,  async_=asy)):\n"
     ]
    }
   ],
   "source": [
    "zoning_MIX = zoning[['zone_cat', 'geometry']]\n",
    "zoning_MIX = zoning_MIX[zoning_MIX.zone_cat == 'MIX']\n",
    "zoning_MIX = zoning_MIX.rename(columns= {'zone_cat': 'perm_MIX'})\n",
    "zoning_MIX = zoning_MIX.to_crs('EPSG:2229')\n",
    "\n",
    "df = gpd.sjoin(dataset_normalized, zoning_MIX, how='left', op='intersects')\n",
    "df = df[['GEOID10', 'perm_MIX']].drop_duplicates()\n",
    "dataset_normalized = dataset_normalized.merge(df, how = 'left', on= 'GEOID10')\n",
    "dataset_normalized['perm_MIX'] = dataset_normalized['perm_MIX'].replace({'MIX': 1}).fillna(0)"
   ]
  },
  {
   "cell_type": "code",
   "execution_count": 54,
   "metadata": {},
   "outputs": [],
   "source": [
    "# dataset_normalized.to_file('../intermediate/dataset/dataset.shp')\n",
    "# dataset_normalized.to_excel(\"../intermediate/dataset/dataset.xlsx\", index= False, header= True)"
   ]
  },
  {
   "cell_type": "code",
   "execution_count": 55,
   "metadata": {},
   "outputs": [],
   "source": [
    "# if the block was treated, when was it treated?\n",
    "dataset_normalized = dataset_normalized.merge(first_covs, how = 'left', on= 'GEOID10')\n",
    "dataset_normalized['yfirst_cov'] = dataset_normalized['yfirst_cov'].fillna('not_treated')"
   ]
  },
  {
   "cell_type": "code",
   "execution_count": 56,
   "metadata": {},
   "outputs": [
    {
     "data": {
      "text/plain": [
       "(44, 55)"
      ]
     },
     "execution_count": 56,
     "metadata": {},
     "output_type": "execute_result"
    }
   ],
   "source": [
    "dataset_normalized[(dataset_normalized['yfirst_cov'].isin(['2020', '2021'])) & (dataset_normalized['POP'] <= 99)].shape"
   ]
  },
  {
   "cell_type": "code",
   "execution_count": 57,
   "metadata": {},
   "outputs": [
    {
     "data": {
      "text/plain": [
       "(209, 55)"
      ]
     },
     "execution_count": 57,
     "metadata": {},
     "output_type": "execute_result"
    }
   ],
   "source": [
    "dataset_normalized[(dataset_normalized['yfirst_cov'].isin(['2020', '2021']))].shape"
   ]
  },
  {
   "cell_type": "code",
   "execution_count": 58,
   "metadata": {},
   "outputs": [
    {
     "data": {
      "text/html": [
       "<div>\n",
       "<style scoped>\n",
       "    .dataframe tbody tr th:only-of-type {\n",
       "        vertical-align: middle;\n",
       "    }\n",
       "\n",
       "    .dataframe tbody tr th {\n",
       "        vertical-align: top;\n",
       "    }\n",
       "\n",
       "    .dataframe thead th {\n",
       "        text-align: right;\n",
       "    }\n",
       "</style>\n",
       "<table border=\"1\" class=\"dataframe\">\n",
       "  <thead>\n",
       "    <tr style=\"text-align: right;\">\n",
       "      <th></th>\n",
       "      <th>yfirst_cov</th>\n",
       "      <th>GEOID10</th>\n",
       "    </tr>\n",
       "  </thead>\n",
       "  <tbody>\n",
       "    <tr>\n",
       "      <th>1111</th>\n",
       "      <td>2020</td>\n",
       "      <td>060372393302004</td>\n",
       "    </tr>\n",
       "    <tr>\n",
       "      <th>1201</th>\n",
       "      <td>2020</td>\n",
       "      <td>060372414002025</td>\n",
       "    </tr>\n",
       "    <tr>\n",
       "      <th>1108</th>\n",
       "      <td>2020</td>\n",
       "      <td>060372393301006</td>\n",
       "    </tr>\n",
       "    <tr>\n",
       "      <th>1193</th>\n",
       "      <td>2020</td>\n",
       "      <td>060372077101036</td>\n",
       "    </tr>\n",
       "    <tr>\n",
       "      <th>1107</th>\n",
       "      <td>2020</td>\n",
       "      <td>060372240202003</td>\n",
       "    </tr>\n",
       "    <tr>\n",
       "      <th>...</th>\n",
       "      <td>...</td>\n",
       "      <td>...</td>\n",
       "    </tr>\n",
       "    <tr>\n",
       "      <th>1208</th>\n",
       "      <td>2021</td>\n",
       "      <td>060372060101020</td>\n",
       "    </tr>\n",
       "    <tr>\n",
       "      <th>1207</th>\n",
       "      <td>2021</td>\n",
       "      <td>060371977001000</td>\n",
       "    </tr>\n",
       "    <tr>\n",
       "      <th>1206</th>\n",
       "      <td>2021</td>\n",
       "      <td>060372122042000</td>\n",
       "    </tr>\n",
       "    <tr>\n",
       "      <th>1204</th>\n",
       "      <td>2021</td>\n",
       "      <td>060372122021002</td>\n",
       "    </tr>\n",
       "    <tr>\n",
       "      <th>1301</th>\n",
       "      <td>2021</td>\n",
       "      <td>060372427001004</td>\n",
       "    </tr>\n",
       "  </tbody>\n",
       "</table>\n",
       "<p>225 rows × 2 columns</p>\n",
       "</div>"
      ],
      "text/plain": [
       "     yfirst_cov          GEOID10\n",
       "1111       2020  060372393302004\n",
       "1201       2020  060372414002025\n",
       "1108       2020  060372393301006\n",
       "1193       2020  060372077101036\n",
       "1107       2020  060372240202003\n",
       "...         ...              ...\n",
       "1208       2021  060372060101020\n",
       "1207       2021  060371977001000\n",
       "1206       2021  060372122042000\n",
       "1204       2021  060372122021002\n",
       "1301       2021  060372427001004\n",
       "\n",
       "[225 rows x 2 columns]"
      ]
     },
     "execution_count": 58,
     "metadata": {},
     "output_type": "execute_result"
    }
   ],
   "source": [
    "first_covs[first_covs['yfirst_cov'].isin(['2020', '2021'])]"
   ]
  },
  {
   "cell_type": "code",
   "execution_count": 59,
   "metadata": {},
   "outputs": [],
   "source": [
    "# what is a block's distance from nearest affordable housing covenent, for each year"
   ]
  },
  {
   "cell_type": "code",
   "execution_count": 60,
   "metadata": {},
   "outputs": [],
   "source": [
    "for_nearest_dist = covs[['Year of Covenant', 'geometry']]\n",
    "for_nearest_dist = for_nearest_dist.to_crs(2229)\n",
    "blank = dataset_normalized[['GEOID10', 'geometry']]"
   ]
  },
  {
   "cell_type": "code",
   "execution_count": 61,
   "metadata": {},
   "outputs": [],
   "source": [
    "nearest_2010 = for_nearest_dist[for_nearest_dist['Year of Covenant'] == '2010']\n",
    "nearest_2011 = for_nearest_dist[for_nearest_dist['Year of Covenant'] <= '2011']\n",
    "nearest_2012 = for_nearest_dist[for_nearest_dist['Year of Covenant'] <= '2012']\n",
    "nearest_2013 = for_nearest_dist[for_nearest_dist['Year of Covenant'] <= '2013']\n",
    "nearest_2014 = for_nearest_dist[for_nearest_dist['Year of Covenant'] <= '2014']\n",
    "nearest_2015 = for_nearest_dist[for_nearest_dist['Year of Covenant'] <= '2015']\n",
    "nearest_2016 = for_nearest_dist[for_nearest_dist['Year of Covenant'] <= '2016']\n",
    "nearest_2017 = for_nearest_dist[for_nearest_dist['Year of Covenant'] <= '2017']\n",
    "nearest_2018 = for_nearest_dist[for_nearest_dist['Year of Covenant'] <= '2018']\n",
    "nearest_2019 = for_nearest_dist[for_nearest_dist['Year of Covenant'] <= '2019']"
   ]
  },
  {
   "cell_type": "code",
   "execution_count": 62,
   "metadata": {},
   "outputs": [],
   "source": [
    "df2010 = gpd.sjoin_nearest(blank, nearest_2010, distance_col='d2010', how='left')[['GEOID10', 'd2010']]\n",
    "df2011 = gpd.sjoin_nearest(blank, nearest_2011, distance_col='d2011', how='left')[['GEOID10', 'd2011']]\n",
    "df2012 = gpd.sjoin_nearest(blank, nearest_2012, distance_col='d2012', how='left')[['GEOID10', 'd2012']]\n",
    "df2013 = gpd.sjoin_nearest(blank, nearest_2013, distance_col='d2013', how='left')[['GEOID10', 'd2013']]\n",
    "df2014 = gpd.sjoin_nearest(blank, nearest_2014, distance_col='d2014', how='left')[['GEOID10', 'd2014']]\n",
    "df2015 = gpd.sjoin_nearest(blank, nearest_2015, distance_col='d2015', how='left')[['GEOID10', 'd2015']]\n",
    "df2016 = gpd.sjoin_nearest(blank, nearest_2016, distance_col='d2016', how='left')[['GEOID10', 'd2016']]\n",
    "df2017 = gpd.sjoin_nearest(blank, nearest_2017, distance_col='d2017', how='left')[['GEOID10', 'd2017']]\n",
    "df2018 = gpd.sjoin_nearest(blank, nearest_2018, distance_col='d2018', how='left')[['GEOID10', 'd2018']]\n",
    "df2019 = gpd.sjoin_nearest(blank, nearest_2019, distance_col='d2019', how='left')[['GEOID10', 'd2019']]\n"
   ]
  },
  {
   "cell_type": "code",
   "execution_count": 63,
   "metadata": {},
   "outputs": [],
   "source": [
    "distances_df = blank.merge(df2010, how= 'left', on= 'GEOID10').merge(df2011, how= 'left', on= 'GEOID10').merge(\n",
    "    df2012, how= 'left', on= 'GEOID10').merge(df2013, how= 'left', on= 'GEOID10').merge(\n",
    "    df2014, how= 'left', on= 'GEOID10').merge(df2015, how= 'left', on= 'GEOID10').merge(\n",
    "    df2016, how= 'left', on= 'GEOID10').merge(df2017, how= 'left', on= 'GEOID10').merge(df2018, how= 'left', on= 'GEOID10').merge(\n",
    "    df2019, how= 'left', on= 'GEOID10')\n",
    "distances_df = distances_df.drop_duplicates()\n",
    "dataset_normalized = dataset_normalized.merge(distances_df, how= 'left', on= 'GEOID10')"
   ]
  },
  {
   "cell_type": "code",
   "execution_count": 64,
   "metadata": {},
   "outputs": [],
   "source": [
    "# projects that are big and projects that are almost 100% affordable, a manager's unit is not offered below market\n",
    "# I consider a project greater than 30 units to be a large project (find justification)"
   ]
  },
  {
   "cell_type": "code",
   "execution_count": 65,
   "metadata": {},
   "outputs": [
    {
     "name": "stderr",
     "output_type": "stream",
     "text": [
      "/Users/vivekadury/opt/anaconda3/lib/python3.8/site-packages/geopandas/geodataframe.py:1351: SettingWithCopyWarning: \n",
      "A value is trying to be set on a copy of a slice from a DataFrame.\n",
      "Try using .loc[row_indexer,col_indexer] = value instead\n",
      "\n",
      "See the caveats in the documentation: https://pandas.pydata.org/pandas-docs/stable/user_guide/indexing.html#returning-a-view-versus-a-copy\n",
      "  super().__setitem__(key, value)\n"
     ]
    }
   ],
   "source": [
    "df_aff = covs[covs['% Affordable'] >= .95]\n",
    "df_aff['pct95aff'] = 1\n",
    "df_aff = df_aff[['geometry', 'pct95aff']].to_crs(2229)\n",
    "df_aff = blank.sjoin(df_aff).drop_duplicates(subset=['GEOID10'])[['GEOID10', 'pct95aff']]\n",
    "dataset_normalized = dataset_normalized.merge(df_aff, how= 'left', on= 'GEOID10')\n",
    "dataset_normalized['pct95aff'] = dataset_normalized['pct95aff'].replace({np.nan: 0})"
   ]
  },
  {
   "cell_type": "code",
   "execution_count": 66,
   "metadata": {},
   "outputs": [
    {
     "name": "stderr",
     "output_type": "stream",
     "text": [
      "/Users/vivekadury/opt/anaconda3/lib/python3.8/site-packages/geopandas/geodataframe.py:1351: SettingWithCopyWarning: \n",
      "A value is trying to be set on a copy of a slice from a DataFrame.\n",
      "Try using .loc[row_indexer,col_indexer] = value instead\n",
      "\n",
      "See the caveats in the documentation: https://pandas.pydata.org/pandas-docs/stable/user_guide/indexing.html#returning-a-view-versus-a-copy\n",
      "  super().__setitem__(key, value)\n"
     ]
    }
   ],
   "source": [
    "df_large = covs[covs['Affordable Units'] >= 30]\n",
    "df_large['cont_large'] = 1\n",
    "df_large = df_large[['geometry', 'cont_large']].to_crs(2229)\n",
    "df_large = blank.sjoin(df_large).drop_duplicates(subset=['GEOID10'])[['GEOID10', 'cont_large']]\n",
    "dataset_normalized = dataset_normalized.merge(df_large, how= 'left', on= 'GEOID10')\n",
    "dataset_normalized['cont_large'] = dataset_normalized['cont_large'].replace({np.nan: 0})"
   ]
  },
  {
   "cell_type": "code",
   "execution_count": 67,
   "metadata": {},
   "outputs": [
    {
     "name": "stderr",
     "output_type": "stream",
     "text": [
      "/Users/vivekadury/opt/anaconda3/lib/python3.8/site-packages/geopandas/geodataframe.py:1351: SettingWithCopyWarning: \n",
      "A value is trying to be set on a copy of a slice from a DataFrame.\n",
      "Try using .loc[row_indexer,col_indexer] = value instead\n",
      "\n",
      "See the caveats in the documentation: https://pandas.pydata.org/pandas-docs/stable/user_guide/indexing.html#returning-a-view-versus-a-copy\n",
      "  super().__setitem__(key, value)\n"
     ]
    }
   ],
   "source": [
    "df_small = covs[covs['Affordable Units'] <= 10]\n",
    "df_small['cont_small'] = 1\n",
    "df_small = df_small[['geometry', 'cont_small']].to_crs(2229)\n",
    "df_small = blank.sjoin(df_small).drop_duplicates(subset=['GEOID10'])[['GEOID10', 'cont_small']]\n",
    "dataset_normalized = dataset_normalized.merge(df_small, how= 'left', on= 'GEOID10')\n",
    "dataset_normalized['cont_small'] = dataset_normalized['cont_small'].replace({np.nan: 0})"
   ]
  },
  {
   "cell_type": "code",
   "execution_count": 68,
   "metadata": {},
   "outputs": [],
   "source": [
    "df = covs.to_crs(2229)\n",
    "df = blank.sjoin(df).sort_values('Year of Covenant').drop_duplicates(subset=['GEOID10'])[['GEOID10', 'Affordable %', 'Affordable Units', 'Total Units']]\n",
    "df = df.rename(columns={'Affordable %': 'Treated_Pct_Aff', 'Affordable Units': 'Treated_Aff_Units', 'Total Units': 'Treated_TOT_Units'})\n",
    "dataset_normalized = dataset_normalized.merge(df, how= 'left', on= 'GEOID10')"
   ]
  },
  {
   "cell_type": "code",
   "execution_count": 69,
   "metadata": {},
   "outputs": [
    {
     "name": "stderr",
     "output_type": "stream",
     "text": [
      "<ipython-input-69-e614a4eec14c>:3: UserWarning: Column names longer than 10 characters will be truncated when saved to ESRI Shapefile.\n",
      "  dataset_normalized.to_file('../intermediate/dataset/dataset.shp')\n"
     ]
    }
   ],
   "source": [
    "dataset_normalized = gpd.GeoDataFrame(dataset_normalized.drop(columns=['geometry_x', 'geometry_y']), \n",
    "                                      geometry= dataset_normalized['geometry_x'], crs= \"EPSG:2229\")\n",
    "dataset_normalized.to_file('../intermediate/dataset/dataset.shp')\n",
    "dataset_normalized.to_excel(\"../intermediate/dataset/dataset.xlsx\", index= False, header= True)"
   ]
  },
  {
   "cell_type": "code",
   "execution_count": null,
   "metadata": {},
   "outputs": [],
   "source": []
  }
 ],
 "metadata": {
  "kernelspec": {
   "display_name": "Python 3 (ipykernel)",
   "language": "python",
   "name": "python3"
  },
  "language_info": {
   "codemirror_mode": {
    "name": "ipython",
    "version": 3
   },
   "file_extension": ".py",
   "mimetype": "text/x-python",
   "name": "python",
   "nbconvert_exporter": "python",
   "pygments_lexer": "ipython3",
   "version": "3.9.12"
  }
 },
 "nbformat": 4,
 "nbformat_minor": 4
}
